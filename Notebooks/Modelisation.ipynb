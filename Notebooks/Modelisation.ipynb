{
 "cells": [
  {
   "cell_type": "code",
   "execution_count": 1,
   "metadata": {},
   "outputs": [
    {
     "name": "stderr",
     "output_type": "stream",
     "text": [
      "c:\\Users\\Arthur\\miniconda3\\Lib\\site-packages\\tqdm\\auto.py:21: TqdmWarning: IProgress not found. Please update jupyter and ipywidgets. See https://ipywidgets.readthedocs.io/en/stable/user_install.html\n",
      "  from .autonotebook import tqdm as notebook_tqdm\n"
     ]
    },
    {
     "name": "stdout",
     "output_type": "stream",
     "text": [
      "WARNING:tensorflow:From c:\\Users\\Arthur\\miniconda3\\Lib\\site-packages\\keras\\src\\losses.py:2976: The name tf.losses.sparse_softmax_cross_entropy is deprecated. Please use tf.compat.v1.losses.sparse_softmax_cross_entropy instead.\n",
      "\n"
     ]
    }
   ],
   "source": [
    "import pandas as pd\n",
    "import matplotlib.pyplot as plt\n",
    "import numpy as np\n",
    "import seaborn as sns\n",
    "from transformers import DistilBertTokenizerFast\n",
    "from sklearn.model_selection import train_test_split\n",
    "from transformers import DistilBertForSequenceClassification, Trainer, TrainingArguments\n",
    "import torch\n",
    "from transformers import DistilBertTokenizer, DistilBertForSequenceClassification, AdamW\n",
    "from torch.utils.data import TensorDataset, DataLoader, RandomSampler, SequentialSampler"
   ]
  },
  {
   "cell_type": "code",
   "execution_count": null,
   "metadata": {},
   "outputs": [],
   "source": [
    "data = pd.read_csv('../Data/data.csv', index_col=0)"
   ]
  },
  {
   "cell_type": "code",
   "execution_count": null,
   "metadata": {},
   "outputs": [],
   "source": [
    "y = data['sex']\n",
    "X = data[data.columns[1:]]\n",
    "# Séparation en ensembles d'entraînement et de test (80% train, 20% test)\n",
    "X_train, X_test, y_train, y_test = train_test_split(X, y, test_size=0.2)\n",
    "\n",
    "# Séparation de l'ensemble de test en ensembles de test et de validation (60% test, 40% validation)\n",
    "X_test, X_val, y_test, y_val = train_test_split(X_test, y_test, test_size=0.4)\n"
   ]
  },
  {
   "cell_type": "code",
   "execution_count": null,
   "metadata": {},
   "outputs": [
    {
     "data": {
      "text/plain": [
       "116    1\n",
       "107    1\n",
       "141    1\n",
       "171    1\n",
       "194    0\n",
       "      ..\n",
       "136    0\n",
       "35     1\n",
       "188    1\n",
       "54     0\n",
       "41     0\n",
       "Name: sex, Length: 192, dtype: int64"
      ]
     },
     "metadata": {},
     "output_type": "display_data"
    }
   ],
   "source": [
    "y_train"
   ]
  },
  {
   "cell_type": "code",
   "execution_count": null,
   "metadata": {},
   "outputs": [],
   "source": [
    "tokenizer = DistilBertTokenizerFast.from_pretrained('distilbert-base-uncased')\n",
    "# Fonction pour tokenizer une ligne de données\n",
    "def tokenize_data(row):\n",
    "    # Concaténer les données textuelles en une seule chaîne\n",
    "    text = ' '.join([str(row['surname']), str(row['firstname']), str(row['age']), str(row['link']), str(row['occupation'])])\n",
    "    \n",
    "    # Tokenization avec DistilBERT\n",
    "    tokens = tokenizer.encode_plus(text, add_special_tokens=True, max_length=16, padding='max_length', truncation=True, return_tensors='pt')\n",
    "    \n",
    "    return tokens\n",
    "\n",
    "tokenized_train_data = X_train.apply(tokenize_data, axis=1)\n",
    "tokenized_test_data = X_test.apply(tokenize_data, axis=1)\n",
    "tokenized_val_data = X_val.apply(tokenize_data, axis=1)"
   ]
  },
  {
   "cell_type": "code",
   "execution_count": null,
   "metadata": {},
   "outputs": [],
   "source": [
    "train_encodings = tokenizer(X_train['sentence'].to_list(), truncation=True, padding=True)\n",
    "val_encodings = tokenizer(X_val['sentence'].to_list(), truncation=True, padding=True)\n",
    "test_encodings = tokenizer(X_test['sentence'].to_list(), truncation=True, padding=True)"
   ]
  },
  {
   "cell_type": "code",
   "execution_count": null,
   "metadata": {},
   "outputs": [
    {
     "data": {
      "text/plain": [
       "[101, 22530, 3744, 16660, 16660, 16660, 102, 0, 0, 0, 0, 0, 0, 0, 0, 0]"
      ]
     },
     "metadata": {},
     "output_type": "display_data"
    }
   ],
   "source": [
    "train_encodings['input_ids'][0]"
   ]
  },
  {
   "cell_type": "code",
   "execution_count": null,
   "metadata": {},
   "outputs": [],
   "source": [
    "import torch\n",
    "\n",
    "# Fonction pour préparer les données tokenizées\n",
    "def prepare_dataset(tokenized_data, labels):\n",
    "    input_ids = torch.cat([data['input_ids'] for data in tokenized_data], dim=0)\n",
    "    attention_masks = torch.cat([data['attention_mask'] for data in tokenized_data], dim=0)\n",
    "    labels = torch.tensor(labels.values, dtype=torch.long)\n",
    "    return input_ids, attention_masks, labels\n",
    "\n",
    "# Préparation des données pour l'entraînement\n",
    "train_input_ids, train_attention_masks, train_labels = prepare_dataset(tokenized_train_data, y_train)\n",
    "\n",
    "# Préparation des données pour le test\n",
    "test_input_ids, test_attention_masks, test_labels = prepare_dataset(tokenized_test_data, y_test)\n",
    "\n",
    "# Préparation des données pour la validation\n",
    "val_input_ids, val_attention_masks, val_labels = prepare_dataset(tokenized_val_data, y_val)\n"
   ]
  },
  {
   "cell_type": "markdown",
   "metadata": {},
   "source": [
    "## Nombre d'epochs : 15, assez faible mais suffisant pour que l'accuracy ne s'améliore que très peu pour chaque learning rate."
   ]
  },
  {
   "cell_type": "markdown",
   "metadata": {},
   "source": [
    "## Variation du learning rate"
   ]
  },
  {
   "cell_type": "code",
   "execution_count": null,
   "metadata": {},
   "outputs": [
    {
     "name": "stderr",
     "output_type": "stream",
     "text": [
      "Some weights of DistilBertForSequenceClassification were not initialized from the model checkpoint at distilbert-base-uncased and are newly initialized: ['classifier.bias', 'classifier.weight', 'pre_classifier.bias', 'pre_classifier.weight']\n",
      "You should probably TRAIN this model on a down-stream task to be able to use it for predictions and inference.\n"
     ]
    },
    {
     "name": "stdout",
     "output_type": "stream",
     "text": [
      "Epoch 1/15\n",
      "Epoch 2/15\n",
      "Epoch 3/15\n",
      "Epoch 4/15\n",
      "Epoch 5/15\n",
      "Epoch 6/15\n",
      "Epoch 7/15\n",
      "Epoch 8/15\n",
      "Epoch 9/15\n",
      "Epoch 10/15\n",
      "Epoch 11/15\n",
      "Epoch 12/15\n",
      "Epoch 13/15\n",
      "Epoch 14/15\n",
      "Epoch 15/15\n",
      "learning rate:1e-06\n",
      "Accuracy on test set: 0.93\n",
      "Accuracy on validation set: 0.85\n"
     ]
    },
    {
     "name": "stderr",
     "output_type": "stream",
     "text": [
      "Some weights of DistilBertForSequenceClassification were not initialized from the model checkpoint at distilbert-base-uncased and are newly initialized: ['classifier.bias', 'classifier.weight', 'pre_classifier.bias', 'pre_classifier.weight']\n",
      "You should probably TRAIN this model on a down-stream task to be able to use it for predictions and inference.\n"
     ]
    },
    {
     "name": "stdout",
     "output_type": "stream",
     "text": [
      "Epoch 1/15\n",
      "Epoch 2/15\n",
      "Epoch 3/15\n",
      "Epoch 4/15\n",
      "Epoch 5/15\n",
      "Epoch 6/15\n",
      "Epoch 7/15\n",
      "Epoch 8/15\n",
      "Epoch 9/15\n",
      "Epoch 10/15\n",
      "Epoch 11/15\n",
      "Epoch 12/15\n",
      "Epoch 13/15\n",
      "Epoch 14/15\n",
      "Epoch 15/15\n",
      "learning rate:2e-06\n",
      "Accuracy on test set: 0.96\n",
      "Accuracy on validation set: 0.90\n"
     ]
    },
    {
     "name": "stderr",
     "output_type": "stream",
     "text": [
      "Some weights of DistilBertForSequenceClassification were not initialized from the model checkpoint at distilbert-base-uncased and are newly initialized: ['classifier.bias', 'classifier.weight', 'pre_classifier.bias', 'pre_classifier.weight']\n",
      "You should probably TRAIN this model on a down-stream task to be able to use it for predictions and inference.\n"
     ]
    },
    {
     "name": "stdout",
     "output_type": "stream",
     "text": [
      "Epoch 1/15\n",
      "Epoch 2/15\n",
      "Epoch 3/15\n",
      "Epoch 4/15\n",
      "Epoch 5/15\n",
      "Epoch 6/15\n",
      "Epoch 7/15\n",
      "Epoch 8/15\n",
      "Epoch 9/15\n",
      "Epoch 10/15\n",
      "Epoch 11/15\n",
      "Epoch 12/15\n",
      "Epoch 13/15\n",
      "Epoch 14/15\n",
      "Epoch 15/15\n",
      "learning rate:3e-06\n",
      "Accuracy on test set: 0.96\n",
      "Accuracy on validation set: 0.95\n"
     ]
    },
    {
     "name": "stderr",
     "output_type": "stream",
     "text": [
      "Some weights of DistilBertForSequenceClassification were not initialized from the model checkpoint at distilbert-base-uncased and are newly initialized: ['classifier.bias', 'classifier.weight', 'pre_classifier.bias', 'pre_classifier.weight']\n",
      "You should probably TRAIN this model on a down-stream task to be able to use it for predictions and inference.\n"
     ]
    },
    {
     "name": "stdout",
     "output_type": "stream",
     "text": [
      "Epoch 1/15\n",
      "Epoch 2/15\n",
      "Epoch 3/15\n",
      "Epoch 4/15\n",
      "Epoch 5/15\n",
      "Epoch 6/15\n",
      "Epoch 7/15\n",
      "Epoch 8/15\n",
      "Epoch 9/15\n",
      "Epoch 10/15\n",
      "Epoch 11/15\n",
      "Epoch 12/15\n",
      "Epoch 13/15\n",
      "Epoch 14/15\n",
      "Epoch 15/15\n",
      "learning rate:4e-06\n",
      "Accuracy on test set: 0.96\n",
      "Accuracy on validation set: 1.00\n"
     ]
    },
    {
     "name": "stderr",
     "output_type": "stream",
     "text": [
      "Some weights of DistilBertForSequenceClassification were not initialized from the model checkpoint at distilbert-base-uncased and are newly initialized: ['classifier.bias', 'classifier.weight', 'pre_classifier.bias', 'pre_classifier.weight']\n",
      "You should probably TRAIN this model on a down-stream task to be able to use it for predictions and inference.\n"
     ]
    },
    {
     "name": "stdout",
     "output_type": "stream",
     "text": [
      "Epoch 1/15\n",
      "Epoch 2/15\n",
      "Epoch 3/15\n",
      "Epoch 4/15\n",
      "Epoch 5/15\n",
      "Epoch 6/15\n",
      "Epoch 7/15\n",
      "Epoch 8/15\n",
      "Epoch 9/15\n",
      "Epoch 10/15\n",
      "Epoch 11/15\n",
      "Epoch 12/15\n",
      "Epoch 13/15\n",
      "Epoch 14/15\n",
      "Epoch 15/15\n",
      "learning rate:5e-06\n",
      "Accuracy on test set: 0.93\n",
      "Accuracy on validation set: 0.90\n"
     ]
    },
    {
     "name": "stderr",
     "output_type": "stream",
     "text": [
      "Some weights of DistilBertForSequenceClassification were not initialized from the model checkpoint at distilbert-base-uncased and are newly initialized: ['classifier.bias', 'classifier.weight', 'pre_classifier.bias', 'pre_classifier.weight']\n",
      "You should probably TRAIN this model on a down-stream task to be able to use it for predictions and inference.\n"
     ]
    },
    {
     "name": "stdout",
     "output_type": "stream",
     "text": [
      "Epoch 1/15\n",
      "Epoch 2/15\n",
      "Epoch 3/15\n",
      "Epoch 4/15\n",
      "Epoch 5/15\n",
      "Epoch 6/15\n",
      "Epoch 7/15\n",
      "Epoch 8/15\n",
      "Epoch 9/15\n",
      "Epoch 10/15\n",
      "Epoch 11/15\n",
      "Epoch 12/15\n",
      "Epoch 13/15\n",
      "Epoch 14/15\n",
      "Epoch 15/15\n",
      "learning rate:1e-05\n",
      "Accuracy on test set: 0.96\n",
      "Accuracy on validation set: 0.90\n"
     ]
    },
    {
     "name": "stderr",
     "output_type": "stream",
     "text": [
      "Some weights of DistilBertForSequenceClassification were not initialized from the model checkpoint at distilbert-base-uncased and are newly initialized: ['classifier.bias', 'classifier.weight', 'pre_classifier.bias', 'pre_classifier.weight']\n",
      "You should probably TRAIN this model on a down-stream task to be able to use it for predictions and inference.\n"
     ]
    },
    {
     "name": "stdout",
     "output_type": "stream",
     "text": [
      "Epoch 1/15\n",
      "Epoch 2/15\n",
      "Epoch 3/15\n",
      "Epoch 4/15\n",
      "Epoch 5/15\n",
      "Epoch 6/15\n",
      "Epoch 7/15\n",
      "Epoch 8/15\n",
      "Epoch 9/15\n",
      "Epoch 10/15\n",
      "Epoch 11/15\n",
      "Epoch 12/15\n",
      "Epoch 13/15\n",
      "Epoch 14/15\n",
      "Epoch 15/15\n",
      "learning rate:2e-05\n",
      "Accuracy on test set: 0.93\n",
      "Accuracy on validation set: 0.90\n"
     ]
    },
    {
     "name": "stderr",
     "output_type": "stream",
     "text": [
      "Some weights of DistilBertForSequenceClassification were not initialized from the model checkpoint at distilbert-base-uncased and are newly initialized: ['classifier.bias', 'classifier.weight', 'pre_classifier.bias', 'pre_classifier.weight']\n",
      "You should probably TRAIN this model on a down-stream task to be able to use it for predictions and inference.\n"
     ]
    },
    {
     "name": "stdout",
     "output_type": "stream",
     "text": [
      "Epoch 1/15\n",
      "Epoch 2/15\n",
      "Epoch 3/15\n",
      "Epoch 4/15\n",
      "Epoch 5/15\n",
      "Epoch 6/15\n",
      "Epoch 7/15\n",
      "Epoch 8/15\n",
      "Epoch 9/15\n",
      "Epoch 10/15\n",
      "Epoch 11/15\n",
      "Epoch 12/15\n",
      "Epoch 13/15\n",
      "Epoch 14/15\n",
      "Epoch 15/15\n",
      "learning rate:3e-05\n",
      "Accuracy on test set: 0.86\n",
      "Accuracy on validation set: 0.90\n"
     ]
    },
    {
     "name": "stderr",
     "output_type": "stream",
     "text": [
      "Some weights of DistilBertForSequenceClassification were not initialized from the model checkpoint at distilbert-base-uncased and are newly initialized: ['classifier.bias', 'classifier.weight', 'pre_classifier.bias', 'pre_classifier.weight']\n",
      "You should probably TRAIN this model on a down-stream task to be able to use it for predictions and inference.\n"
     ]
    },
    {
     "name": "stdout",
     "output_type": "stream",
     "text": [
      "Epoch 1/15\n",
      "Epoch 2/15\n",
      "Epoch 3/15\n",
      "Epoch 4/15\n",
      "Epoch 5/15\n",
      "Epoch 6/15\n",
      "Epoch 7/15\n",
      "Epoch 8/15\n",
      "Epoch 9/15\n",
      "Epoch 10/15\n",
      "Epoch 11/15\n",
      "Epoch 12/15\n",
      "Epoch 13/15\n",
      "Epoch 14/15\n",
      "Epoch 15/15\n",
      "learning rate:4e-05\n",
      "Accuracy on test set: 0.93\n",
      "Accuracy on validation set: 0.95\n"
     ]
    },
    {
     "name": "stderr",
     "output_type": "stream",
     "text": [
      "Some weights of DistilBertForSequenceClassification were not initialized from the model checkpoint at distilbert-base-uncased and are newly initialized: ['classifier.bias', 'classifier.weight', 'pre_classifier.bias', 'pre_classifier.weight']\n",
      "You should probably TRAIN this model on a down-stream task to be able to use it for predictions and inference.\n"
     ]
    },
    {
     "name": "stdout",
     "output_type": "stream",
     "text": [
      "Epoch 1/15\n",
      "Epoch 2/15\n",
      "Epoch 3/15\n",
      "Epoch 4/15\n",
      "Epoch 5/15\n",
      "Epoch 6/15\n",
      "Epoch 7/15\n",
      "Epoch 8/15\n",
      "Epoch 9/15\n",
      "Epoch 10/15\n",
      "Epoch 11/15\n",
      "Epoch 12/15\n",
      "Epoch 13/15\n",
      "Epoch 14/15\n",
      "Epoch 15/15\n",
      "learning rate:5e-05\n",
      "Accuracy on test set: 0.96\n",
      "Accuracy on validation set: 0.90\n"
     ]
    },
    {
     "name": "stderr",
     "output_type": "stream",
     "text": [
      "Some weights of DistilBertForSequenceClassification were not initialized from the model checkpoint at distilbert-base-uncased and are newly initialized: ['classifier.bias', 'classifier.weight', 'pre_classifier.bias', 'pre_classifier.weight']\n",
      "You should probably TRAIN this model on a down-stream task to be able to use it for predictions and inference.\n"
     ]
    },
    {
     "name": "stdout",
     "output_type": "stream",
     "text": [
      "Epoch 1/15\n",
      "Epoch 2/15\n",
      "Epoch 3/15\n",
      "Epoch 4/15\n",
      "Epoch 5/15\n",
      "Epoch 6/15\n",
      "Epoch 7/15\n",
      "Epoch 8/15\n",
      "Epoch 9/15\n",
      "Epoch 10/15\n",
      "Epoch 11/15\n",
      "Epoch 12/15\n",
      "Epoch 13/15\n",
      "Epoch 14/15\n",
      "Epoch 15/15\n",
      "learning rate:0.0001\n",
      "Accuracy on test set: 0.96\n",
      "Accuracy on validation set: 0.90\n"
     ]
    },
    {
     "name": "stderr",
     "output_type": "stream",
     "text": [
      "Some weights of DistilBertForSequenceClassification were not initialized from the model checkpoint at distilbert-base-uncased and are newly initialized: ['classifier.bias', 'classifier.weight', 'pre_classifier.bias', 'pre_classifier.weight']\n",
      "You should probably TRAIN this model on a down-stream task to be able to use it for predictions and inference.\n"
     ]
    },
    {
     "name": "stdout",
     "output_type": "stream",
     "text": [
      "Epoch 1/15\n",
      "Epoch 2/15\n",
      "Epoch 3/15\n",
      "Epoch 4/15\n",
      "Epoch 5/15\n",
      "Epoch 6/15\n",
      "Epoch 7/15\n",
      "Epoch 8/15\n",
      "Epoch 9/15\n",
      "Epoch 10/15\n",
      "Epoch 11/15\n",
      "Epoch 12/15\n",
      "Epoch 13/15\n",
      "Epoch 14/15\n",
      "Epoch 15/15\n",
      "learning rate:0.001\n",
      "Accuracy on test set: 0.61\n",
      "Accuracy on validation set: 0.45\n"
     ]
    },
    {
     "name": "stderr",
     "output_type": "stream",
     "text": [
      "Some weights of DistilBertForSequenceClassification were not initialized from the model checkpoint at distilbert-base-uncased and are newly initialized: ['classifier.bias', 'classifier.weight', 'pre_classifier.bias', 'pre_classifier.weight']\n",
      "You should probably TRAIN this model on a down-stream task to be able to use it for predictions and inference.\n"
     ]
    },
    {
     "name": "stdout",
     "output_type": "stream",
     "text": [
      "Epoch 1/15\n",
      "Epoch 2/15\n",
      "Epoch 3/15\n",
      "Epoch 4/15\n",
      "Epoch 5/15\n",
      "Epoch 6/15\n",
      "Epoch 7/15\n",
      "Epoch 8/15\n",
      "Epoch 9/15\n",
      "Epoch 10/15\n",
      "Epoch 11/15\n",
      "Epoch 12/15\n",
      "Epoch 13/15\n",
      "Epoch 14/15\n",
      "Epoch 15/15\n",
      "learning rate:0.01\n",
      "Accuracy on test set: 0.61\n",
      "Accuracy on validation set: 0.45\n"
     ]
    },
    {
     "name": "stderr",
     "output_type": "stream",
     "text": [
      "Some weights of DistilBertForSequenceClassification were not initialized from the model checkpoint at distilbert-base-uncased and are newly initialized: ['classifier.bias', 'classifier.weight', 'pre_classifier.bias', 'pre_classifier.weight']\n",
      "You should probably TRAIN this model on a down-stream task to be able to use it for predictions and inference.\n"
     ]
    },
    {
     "name": "stdout",
     "output_type": "stream",
     "text": [
      "Epoch 1/15\n",
      "Epoch 2/15\n",
      "Epoch 3/15\n",
      "Epoch 4/15\n",
      "Epoch 5/15\n",
      "Epoch 6/15\n",
      "Epoch 7/15\n",
      "Epoch 8/15\n",
      "Epoch 9/15\n",
      "Epoch 10/15\n",
      "Epoch 11/15\n",
      "Epoch 12/15\n",
      "Epoch 13/15\n",
      "Epoch 14/15\n",
      "Epoch 15/15\n",
      "learning rate:0.1\n",
      "Accuracy on test set: 0.61\n",
      "Accuracy on validation set: 0.45\n"
     ]
    }
   ],
   "source": [
    "\n",
    "\n",
    "\n",
    "\n",
    "# Définir les paramètres d'entraînement\n",
    "val_accuracies_lr = []\n",
    "test_accuracies_lr = []\n",
    "for learning_rate in [1e-6, 2e-6, 3e-6, 4e-6, 5e-6, 1e-5, 2e-5, 3e-5, 4e-5, 5e-5, 1e-4, 1e-3, 1e-2, 1e-1]:\n",
    "    device = \"cpu\"\n",
    "    # Définir le modèle DistilBERT\n",
    "    model = DistilBertForSequenceClassification.from_pretrained('distilbert-base-uncased', num_labels=2)\n",
    "    optimizer = AdamW(model.parameters(), lr=learning_rate)\n",
    "\n",
    "    # Définir les tenseurs de données d'entraînement et de validation\n",
    "    train_dataset = TensorDataset(train_input_ids, train_attention_masks, train_labels)\n",
    "    test_dataset = TensorDataset(test_input_ids, test_attention_masks, test_labels)\n",
    "    val_dataset = TensorDataset(val_input_ids, val_attention_masks, val_labels)\n",
    "\n",
    "    # Définir les paramètres d'entraînement\n",
    "    batch_size = 16\n",
    "    train_dataloader = DataLoader(train_dataset, sampler=RandomSampler(train_dataset), batch_size=batch_size)\n",
    "    test_dataloader = DataLoader(test_dataset, sampler=SequentialSampler(test_dataset), batch_size=batch_size)\n",
    "    val_dataloader = DataLoader(val_dataset, sampler=SequentialSampler(val_dataset), batch_size=batch_size)\n",
    "\n",
    "    # Mettre le modèle en mode d'entraînement\n",
    "    model.train()\n",
    "\n",
    "    # Boucle d'entraînement\n",
    "    epochs = 15\n",
    "    for epoch in range(epochs):\n",
    "        print(f'Epoch {epoch + 1}/{epochs}')\n",
    "        for batch in train_dataloader:\n",
    "            # Extraire les données du batch\n",
    "            input_ids, attention_masks, labels = batch\n",
    "            \n",
    "            # Mettre les données sur le GPU si disponible\n",
    "            input_ids = input_ids.to(device)\n",
    "            attention_masks = attention_masks.to(device)\n",
    "            labels = labels.to(device)\n",
    "            \n",
    "            # Remettre les gradients à zéro\n",
    "            optimizer.zero_grad()\n",
    "            \n",
    "            # Faire une passe avant pour obtenir les prédictions\n",
    "            outputs = model(input_ids=input_ids, attention_mask=attention_masks, labels=labels)\n",
    "            \n",
    "            # Calculer la perte\n",
    "            loss = outputs.loss\n",
    "            \n",
    "            # Faire une passe arrière pour calculer les gradients\n",
    "            loss.backward()\n",
    "            \n",
    "            # Mettre à jour les poids du modèle\n",
    "            optimizer.step()\n",
    "            \n",
    "        # Mettre le modèle en mode d'évaluation\n",
    "    model.eval()\n",
    "\n",
    "    # Listes pour stocker les prédictions et les vraies étiquettes pour l'ensemble de test\n",
    "    test_predictions = []\n",
    "    test_true_labels = []\n",
    "\n",
    "    # Boucle d'évaluation sur l'ensemble de test\n",
    "    for batch in test_dataloader:\n",
    "        # Extraire les données du batch\n",
    "        input_ids, attention_masks, labels = batch\n",
    "        \n",
    "        # Mettre les données sur le GPU si disponible\n",
    "        input_ids = input_ids.to(device)\n",
    "        attention_masks = attention_masks.to(device)\n",
    "        labels = labels.to(device)\n",
    "        \n",
    "        # Désactiver le calcul des gradients\n",
    "        with torch.no_grad():\n",
    "            # Faire une passe avant pour obtenir les prédictions\n",
    "            outputs = model(input_ids=input_ids, attention_mask=attention_masks)\n",
    "            \n",
    "        # Obtenir les prédictions et les étiquettes\n",
    "        logits = outputs.logits\n",
    "        test_predictions.extend(torch.argmax(logits, dim=1).tolist())\n",
    "        test_true_labels.extend(labels.tolist())\n",
    "\n",
    "    # Calculer les performances du modèle sur l'ensemble de test\n",
    "    correct_predictions = sum(p == t for p, t in zip(test_predictions, test_true_labels))\n",
    "    total_predictions = len(test_predictions)\n",
    "    test_accuracy = correct_predictions / total_predictions\n",
    "    test_accuracies_lr.append(test_accuracy)\n",
    "    print(f'learning rate:{learning_rate}')\n",
    "    print(f'Accuracy on test set: {test_accuracy:.2f}')\n",
    "    \n",
    "    # Mettre le modèle en mode d'évaluation\n",
    "    model.eval()\n",
    "\n",
    "    # Listes pour stocker les prédictions et les vraies étiquettes\n",
    "    predictions = []\n",
    "    true_labels = []\n",
    "\n",
    "    # Boucle d'évaluation\n",
    "    for batch in val_dataloader:\n",
    "        # Extraire les données du batch\n",
    "        input_ids, attention_masks, labels = batch\n",
    "        \n",
    "        # Mettre les données sur le GPU si disponible\n",
    "        input_ids = input_ids.to(device)\n",
    "        attention_masks = attention_masks.to(device)\n",
    "        labels = labels.to(device)\n",
    "        \n",
    "        # Désactiver le calcul des gradients\n",
    "        with torch.no_grad():\n",
    "            # Faire une passe avant pour obtenir les prédictions\n",
    "            outputs = model(input_ids=input_ids, attention_mask=attention_masks)\n",
    "            \n",
    "        # Obtenir les prédictions et les étiquettes\n",
    "        logits = outputs.logits\n",
    "        predictions.extend(torch.argmax(logits, dim=1).tolist())\n",
    "        true_labels.extend(labels.tolist())\n",
    "\n",
    "    # Calculer les performances du modèle\n",
    "    correct_predictions = sum(p == t for p, t in zip(predictions, true_labels))\n",
    "    total_predictions = len(predictions)\n",
    "    val_accuracy = correct_predictions / total_predictions\n",
    "    val_accuracies_lr.append(val_accuracy)\n",
    "    print(f'Accuracy on validation set: {val_accuracy:.2f}')"
   ]
  },
  {
   "cell_type": "code",
   "execution_count": null,
   "metadata": {},
   "outputs": [
    {
     "data": {
      "image/png": "[encoded data removed]",
      "text/plain": [
       "<Figure size 1000x600 with 1 Axes>"
      ]
     },
     "metadata": {},
     "output_type": "display_data"
    }
   ],
   "source": [
    "# Données\n",
    "test_accuracies_lr = [0.93, 0.96, 0.96, 0.96, 0.93, 0.96, 0.93, 0.86, 0.93, 0.96, 0.96, 0.61, 0.61, 0.61]\n",
    "val_accuracies_lr = [0.85, 0.90, 0.95, 1, 0.9, 0.9, 0.9, 0.9, 0.95, 0.9, 0.9, 0.45, 0.45, 0.45]\n",
    "learning_rates = [1e-6, 2e-6, 3e-6, 4e-6, 5e-6, 1e-5, 2e-5, 3e-5, 4e-5, 5e-5, 1e-4, 1e-3, 1e-2, 1e-1]\n",
    "\n",
    "# Plot\n",
    "plt.figure(figsize=(10, 6))  # Taille de la figure\n",
    "plt.plot(learning_rates, test_accuracies_lr, label='Test Set', marker='o', color='blue')  # Courbe pour le test set\n",
    "plt.plot(learning_rates, val_accuracies_lr, label='Eval Set', marker='s', color='green')  # Courbe pour l'ensemble d'évaluation\n",
    "plt.xscale('log')  # Echelle logarithmique sur l'axe x pour les taux d'apprentissage\n",
    "plt.axvline(x=4e-6, linestyle='--', color='red', label='$4*10^{-6}$')\n",
    "plt.xlabel('Learning Rate')  # Nom de l'axe x\n",
    "plt.ylabel('Accuracy')  # Nom de l'axe y\n",
    "plt.title('Accuracy vs Learning Rate')  # Titre du graphique\n",
    "plt.legend()  # Affichage de la légende\n",
    "plt.grid(True)  # Affichage de la grille\n",
    "plt.tight_layout()  # Ajustement automatique des paramètres de la figure pour s'assurer que rien n'est coupé\n",
    "plt.show()  # Affichage du graphique\n"
   ]
  },
  {
   "cell_type": "markdown",
   "metadata": {},
   "source": [
    "## Variation du batch (avec LR optimal)"
   ]
  },
  {
   "cell_type": "code",
   "execution_count": null,
   "metadata": {},
   "outputs": [
    {
     "name": "stderr",
     "output_type": "stream",
     "text": [
      "Some weights of DistilBertForSequenceClassification were not initialized from the model checkpoint at distilbert-base-uncased and are newly initialized: ['classifier.bias', 'classifier.weight', 'pre_classifier.bias', 'pre_classifier.weight']\n",
      "You should probably TRAIN this model on a down-stream task to be able to use it for predictions and inference.\n"
     ]
    },
    {
     "name": "stdout",
     "output_type": "stream",
     "text": [
      "Epoch 1/15\n",
      "Epoch 2/15\n",
      "Epoch 3/15\n",
      "Epoch 4/15\n",
      "Epoch 5/15\n",
      "Epoch 6/15\n",
      "Epoch 7/15\n",
      "Epoch 8/15\n",
      "Epoch 9/15\n",
      "Epoch 10/15\n",
      "Epoch 11/15\n",
      "Epoch 12/15\n",
      "Epoch 13/15\n",
      "Epoch 14/15\n",
      "Epoch 15/15\n",
      "batch size:4\n",
      "Accuracy on test set: 0.96\n",
      "Accuracy on validation set: 0.95\n"
     ]
    },
    {
     "name": "stderr",
     "output_type": "stream",
     "text": [
      "Some weights of DistilBertForSequenceClassification were not initialized from the model checkpoint at distilbert-base-uncased and are newly initialized: ['classifier.bias', 'classifier.weight', 'pre_classifier.bias', 'pre_classifier.weight']\n",
      "You should probably TRAIN this model on a down-stream task to be able to use it for predictions and inference.\n"
     ]
    },
    {
     "name": "stdout",
     "output_type": "stream",
     "text": [
      "Epoch 1/15\n",
      "Epoch 2/15\n",
      "Epoch 3/15\n",
      "Epoch 4/15\n",
      "Epoch 5/15\n",
      "Epoch 6/15\n",
      "Epoch 7/15\n",
      "Epoch 8/15\n",
      "Epoch 9/15\n",
      "Epoch 10/15\n",
      "Epoch 11/15\n",
      "Epoch 12/15\n",
      "Epoch 13/15\n",
      "Epoch 14/15\n",
      "Epoch 15/15\n",
      "batch size:8\n",
      "Accuracy on test set: 0.96\n",
      "Accuracy on validation set: 0.95\n"
     ]
    },
    {
     "name": "stderr",
     "output_type": "stream",
     "text": [
      "Some weights of DistilBertForSequenceClassification were not initialized from the model checkpoint at distilbert-base-uncased and are newly initialized: ['classifier.bias', 'classifier.weight', 'pre_classifier.bias', 'pre_classifier.weight']\n",
      "You should probably TRAIN this model on a down-stream task to be able to use it for predictions and inference.\n"
     ]
    },
    {
     "name": "stdout",
     "output_type": "stream",
     "text": [
      "Epoch 1/15\n",
      "Epoch 2/15\n",
      "Epoch 3/15\n",
      "Epoch 4/15\n",
      "Epoch 5/15\n",
      "Epoch 6/15\n",
      "Epoch 7/15\n",
      "Epoch 8/15\n",
      "Epoch 9/15\n",
      "Epoch 10/15\n",
      "Epoch 11/15\n",
      "Epoch 12/15\n",
      "Epoch 13/15\n",
      "Epoch 14/15\n",
      "Epoch 15/15\n",
      "batch size:16\n",
      "Accuracy on test set: 0.93\n",
      "Accuracy on validation set: 0.90\n"
     ]
    },
    {
     "name": "stderr",
     "output_type": "stream",
     "text": [
      "Some weights of DistilBertForSequenceClassification were not initialized from the model checkpoint at distilbert-base-uncased and are newly initialized: ['classifier.bias', 'classifier.weight', 'pre_classifier.bias', 'pre_classifier.weight']\n",
      "You should probably TRAIN this model on a down-stream task to be able to use it for predictions and inference.\n"
     ]
    },
    {
     "name": "stdout",
     "output_type": "stream",
     "text": [
      "Epoch 1/15\n",
      "Epoch 2/15\n",
      "Epoch 3/15\n",
      "Epoch 4/15\n",
      "Epoch 5/15\n",
      "Epoch 6/15\n",
      "Epoch 7/15\n",
      "Epoch 8/15\n",
      "Epoch 9/15\n",
      "Epoch 10/15\n",
      "Epoch 11/15\n",
      "Epoch 12/15\n",
      "Epoch 13/15\n",
      "Epoch 14/15\n",
      "Epoch 15/15\n",
      "batch size:32\n",
      "Accuracy on test set: 0.96\n",
      "Accuracy on validation set: 0.90\n"
     ]
    },
    {
     "name": "stderr",
     "output_type": "stream",
     "text": [
      "Some weights of DistilBertForSequenceClassification were not initialized from the model checkpoint at distilbert-base-uncased and are newly initialized: ['classifier.bias', 'classifier.weight', 'pre_classifier.bias', 'pre_classifier.weight']\n",
      "You should probably TRAIN this model on a down-stream task to be able to use it for predictions and inference.\n"
     ]
    },
    {
     "name": "stdout",
     "output_type": "stream",
     "text": [
      "Epoch 1/15\n",
      "Epoch 2/15\n",
      "Epoch 3/15\n",
      "Epoch 4/15\n",
      "Epoch 5/15\n",
      "Epoch 6/15\n",
      "Epoch 7/15\n",
      "Epoch 8/15\n",
      "Epoch 9/15\n",
      "Epoch 10/15\n",
      "Epoch 11/15\n",
      "Epoch 12/15\n",
      "Epoch 13/15\n",
      "Epoch 14/15\n",
      "Epoch 15/15\n",
      "batch size:64\n",
      "Accuracy on test set: 0.89\n",
      "Accuracy on validation set: 0.80\n"
     ]
    },
    {
     "name": "stderr",
     "output_type": "stream",
     "text": [
      "Some weights of DistilBertForSequenceClassification were not initialized from the model checkpoint at distilbert-base-uncased and are newly initialized: ['classifier.bias', 'classifier.weight', 'pre_classifier.bias', 'pre_classifier.weight']\n",
      "You should probably TRAIN this model on a down-stream task to be able to use it for predictions and inference.\n"
     ]
    },
    {
     "name": "stdout",
     "output_type": "stream",
     "text": [
      "Epoch 1/15\n",
      "Epoch 2/15\n",
      "Epoch 3/15\n",
      "Epoch 4/15\n",
      "Epoch 5/15\n",
      "Epoch 6/15\n",
      "Epoch 7/15\n",
      "Epoch 8/15\n",
      "Epoch 9/15\n",
      "Epoch 10/15\n",
      "Epoch 11/15\n",
      "Epoch 12/15\n",
      "Epoch 13/15\n",
      "Epoch 14/15\n",
      "Epoch 15/15\n",
      "batch size:128\n",
      "Accuracy on test set: 0.61\n",
      "Accuracy on validation set: 0.45\n"
     ]
    }
   ],
   "source": [
    "\n",
    "\n",
    "# Définir les paramètres d'entraînement\n",
    "val_accuracies_batch = []\n",
    "test_accuracies_batch = []\n",
    "optimal_lr = 3e-06\n",
    "for batch_size in [4, 8, 16, 32, 64, 128]:\n",
    "    device = \"cpu\"\n",
    "    # Définir le modèle DistilBERT\n",
    "    model = DistilBertForSequenceClassification.from_pretrained('distilbert-base-uncased', num_labels=2)\n",
    "    optimizer = AdamW(model.parameters(), lr=optimal_lr)\n",
    "\n",
    "    # Définir les tenseurs de données d'entraînement et de validation\n",
    "    train_dataset = TensorDataset(train_input_ids, train_attention_masks, train_labels)\n",
    "    test_dataset = TensorDataset(test_input_ids, test_attention_masks, test_labels)\n",
    "    val_dataset = TensorDataset(val_input_ids, val_attention_masks, val_labels)\n",
    "\n",
    "    # Définir les paramètres d'entraînement\n",
    "    # batch_size = 16\n",
    "    train_dataloader = DataLoader(train_dataset, sampler=RandomSampler(train_dataset), batch_size=batch_size)\n",
    "    test_dataloader = DataLoader(test_dataset, sampler=SequentialSampler(test_dataset), batch_size=batch_size)\n",
    "    val_dataloader = DataLoader(val_dataset, sampler=SequentialSampler(val_dataset), batch_size=batch_size)\n",
    "\n",
    "    # Mettre le modèle en mode d'entraînement\n",
    "    model.train()\n",
    "\n",
    "    # Boucle d'entraînement\n",
    "    epochs = 15\n",
    "    for epoch in range(epochs):\n",
    "        print(f'Epoch {epoch + 1}/{epochs}')\n",
    "        for batch in train_dataloader:\n",
    "            # Extraire les données du batch\n",
    "            input_ids, attention_masks, labels = batch\n",
    "            \n",
    "            # Mettre les données sur le GPU si disponible\n",
    "            input_ids = input_ids.to(device)\n",
    "            attention_masks = attention_masks.to(device)\n",
    "            labels = labels.to(device)\n",
    "            \n",
    "            # Remettre les gradients à zéro\n",
    "            optimizer.zero_grad()\n",
    "            \n",
    "            # Faire une passe avant pour obtenir les prédictions\n",
    "            outputs = model(input_ids=input_ids, attention_mask=attention_masks, labels=labels)\n",
    "            \n",
    "            # Calculer la perte\n",
    "            loss = outputs.loss\n",
    "            \n",
    "            # Faire une passe arrière pour calculer les gradients\n",
    "            loss.backward()\n",
    "            \n",
    "            # Mettre à jour les poids du modèle\n",
    "            optimizer.step()\n",
    "            \n",
    "        # Mettre le modèle en mode d'évaluation\n",
    "    model.eval()\n",
    "\n",
    "    # Listes pour stocker les prédictions et les vraies étiquettes pour l'ensemble de test\n",
    "    test_predictions = []\n",
    "    test_true_labels = []\n",
    "\n",
    "    # Boucle d'évaluation sur l'ensemble de test\n",
    "    for batch in test_dataloader:\n",
    "        # Extraire les données du batch\n",
    "        input_ids, attention_masks, labels = batch\n",
    "        \n",
    "        # Mettre les données sur le GPU si disponible\n",
    "        input_ids = input_ids.to(device)\n",
    "        attention_masks = attention_masks.to(device)\n",
    "        labels = labels.to(device)\n",
    "        \n",
    "        # Désactiver le calcul des gradients\n",
    "        with torch.no_grad():\n",
    "            # Faire une passe avant pour obtenir les prédictions\n",
    "            outputs = model(input_ids=input_ids, attention_mask=attention_masks)\n",
    "            \n",
    "        # Obtenir les prédictions et les étiquettes\n",
    "        logits = outputs.logits\n",
    "        test_predictions.extend(torch.argmax(logits, dim=1).tolist())\n",
    "        test_true_labels.extend(labels.tolist())\n",
    "\n",
    "    # Calculer les performances du modèle sur l'ensemble de test\n",
    "    correct_predictions = sum(p == t for p, t in zip(test_predictions, test_true_labels))\n",
    "    total_predictions = len(test_predictions)\n",
    "    test_accuracy = correct_predictions / total_predictions\n",
    "    test_accuracies_batch.append(test_accuracy)\n",
    "    print(f'batch size:{batch_size}')\n",
    "    print(f'Accuracy on test set: {test_accuracy:.2f}')\n",
    "    \n",
    "    # Mettre le modèle en mode d'évaluation\n",
    "    model.eval()\n",
    "\n",
    "    # Listes pour stocker les prédictions et les vraies étiquettes\n",
    "    predictions = []\n",
    "    true_labels = []\n",
    "\n",
    "    # Boucle d'évaluation\n",
    "    for batch in val_dataloader:\n",
    "        # Extraire les données du batch\n",
    "        input_ids, attention_masks, labels = batch\n",
    "        \n",
    "        # Mettre les données sur le GPU si disponible\n",
    "        input_ids = input_ids.to(device)\n",
    "        attention_masks = attention_masks.to(device)\n",
    "        labels = labels.to(device)\n",
    "        \n",
    "        # Désactiver le calcul des gradients\n",
    "        with torch.no_grad():\n",
    "            # Faire une passe avant pour obtenir les prédictions\n",
    "            outputs = model(input_ids=input_ids, attention_mask=attention_masks)\n",
    "            \n",
    "        # Obtenir les prédictions et les étiquettes\n",
    "        logits = outputs.logits\n",
    "        predictions.extend(torch.argmax(logits, dim=1).tolist())\n",
    "        true_labels.extend(labels.tolist())\n",
    "\n",
    "    # Calculer les performances du modèle\n",
    "    correct_predictions = sum(p == t for p, t in zip(predictions, true_labels))\n",
    "    total_predictions = len(predictions)\n",
    "    val_accuracy = correct_predictions / total_predictions\n",
    "    val_accuracies_batch.append(val_accuracy)\n",
    "    print(f'Accuracy on validation set: {val_accuracy:.2f}')"
   ]
  },
  {
   "cell_type": "markdown",
   "metadata": {},
   "source": [
    "## Ajout d'un weight_decay avec le LR le plus optimal"
   ]
  },
  {
   "cell_type": "code",
   "execution_count": null,
   "metadata": {},
   "outputs": [
    {
     "name": "stderr",
     "output_type": "stream",
     "text": [
      "Some weights of DistilBertForSequenceClassification were not initialized from the model checkpoint at distilbert-base-uncased and are newly initialized: ['classifier.bias', 'classifier.weight', 'pre_classifier.bias', 'pre_classifier.weight']\n",
      "You should probably TRAIN this model on a down-stream task to be able to use it for predictions and inference.\n",
      "c:\\Users\\Arthur\\miniconda3\\Lib\\site-packages\\transformers\\optimization.py:429: FutureWarning: This implementation of AdamW is deprecated and will be removed in a future version. Use the PyTorch implementation torch.optim.AdamW instead, or set `no_deprecation_warning=True` to disable this warning\n",
      "  warnings.warn(\n"
     ]
    },
    {
     "name": "stdout",
     "output_type": "stream",
     "text": [
      "Epoch 1/15\n",
      "Epoch 2/15\n",
      "Epoch 3/15\n",
      "Epoch 4/15\n",
      "Epoch 5/15\n",
      "Epoch 6/15\n",
      "Epoch 7/15\n",
      "Epoch 8/15\n",
      "Epoch 9/15\n",
      "Epoch 10/15\n",
      "Epoch 11/15\n",
      "Epoch 12/15\n",
      "Epoch 13/15\n",
      "Epoch 14/15\n",
      "Epoch 15/15\n",
      "weight decay: 0.001\n",
      "Accuracy on test set: 0.96\n",
      "Accuracy on validation set: 1.00\n"
     ]
    },
    {
     "name": "stderr",
     "output_type": "stream",
     "text": [
      "Some weights of DistilBertForSequenceClassification were not initialized from the model checkpoint at distilbert-base-uncased and are newly initialized: ['classifier.bias', 'classifier.weight', 'pre_classifier.bias', 'pre_classifier.weight']\n",
      "You should probably TRAIN this model on a down-stream task to be able to use it for predictions and inference.\n"
     ]
    },
    {
     "name": "stdout",
     "output_type": "stream",
     "text": [
      "Epoch 1/15\n",
      "Epoch 2/15\n",
      "Epoch 3/15\n",
      "Epoch 4/15\n",
      "Epoch 5/15\n",
      "Epoch 6/15\n",
      "Epoch 7/15\n",
      "Epoch 8/15\n",
      "Epoch 9/15\n",
      "Epoch 10/15\n",
      "Epoch 11/15\n",
      "Epoch 12/15\n",
      "Epoch 13/15\n",
      "Epoch 14/15\n",
      "Epoch 15/15\n",
      "weight decay: 0.0001\n",
      "Accuracy on test set: 1.00\n",
      "Accuracy on validation set: 0.95\n"
     ]
    },
    {
     "name": "stderr",
     "output_type": "stream",
     "text": [
      "Some weights of DistilBertForSequenceClassification were not initialized from the model checkpoint at distilbert-base-uncased and are newly initialized: ['classifier.bias', 'classifier.weight', 'pre_classifier.bias', 'pre_classifier.weight']\n",
      "You should probably TRAIN this model on a down-stream task to be able to use it for predictions and inference.\n"
     ]
    },
    {
     "name": "stdout",
     "output_type": "stream",
     "text": [
      "Epoch 1/15\n",
      "Epoch 2/15\n",
      "Epoch 3/15\n",
      "Epoch 4/15\n",
      "Epoch 5/15\n",
      "Epoch 6/15\n",
      "Epoch 7/15\n",
      "Epoch 8/15\n",
      "Epoch 9/15\n",
      "Epoch 10/15\n",
      "Epoch 11/15\n",
      "Epoch 12/15\n",
      "Epoch 13/15\n",
      "Epoch 14/15\n",
      "Epoch 15/15\n",
      "weight decay: 1e-05\n",
      "Accuracy on test set: 0.96\n",
      "Accuracy on validation set: 0.95\n"
     ]
    },
    {
     "name": "stderr",
     "output_type": "stream",
     "text": [
      "Some weights of DistilBertForSequenceClassification were not initialized from the model checkpoint at distilbert-base-uncased and are newly initialized: ['classifier.bias', 'classifier.weight', 'pre_classifier.bias', 'pre_classifier.weight']\n",
      "You should probably TRAIN this model on a down-stream task to be able to use it for predictions and inference.\n"
     ]
    },
    {
     "name": "stdout",
     "output_type": "stream",
     "text": [
      "Epoch 1/15\n",
      "Epoch 2/15\n",
      "Epoch 3/15\n",
      "Epoch 4/15\n",
      "Epoch 5/15\n",
      "Epoch 6/15\n",
      "Epoch 7/15\n",
      "Epoch 8/15\n",
      "Epoch 9/15\n",
      "Epoch 10/15\n",
      "Epoch 11/15\n",
      "Epoch 12/15\n",
      "Epoch 13/15\n",
      "Epoch 14/15\n",
      "Epoch 15/15\n",
      "weight decay: 1e-06\n",
      "Accuracy on test set: 0.96\n",
      "Accuracy on validation set: 1.00\n"
     ]
    },
    {
     "name": "stderr",
     "output_type": "stream",
     "text": [
      "Some weights of DistilBertForSequenceClassification were not initialized from the model checkpoint at distilbert-base-uncased and are newly initialized: ['classifier.bias', 'classifier.weight', 'pre_classifier.bias', 'pre_classifier.weight']\n",
      "You should probably TRAIN this model on a down-stream task to be able to use it for predictions and inference.\n"
     ]
    },
    {
     "name": "stdout",
     "output_type": "stream",
     "text": [
      "Epoch 1/15\n",
      "Epoch 2/15\n",
      "Epoch 3/15\n",
      "Epoch 4/15\n",
      "Epoch 5/15\n",
      "Epoch 6/15\n",
      "Epoch 7/15\n",
      "Epoch 8/15\n",
      "Epoch 9/15\n",
      "Epoch 10/15\n",
      "Epoch 11/15\n",
      "Epoch 12/15\n",
      "Epoch 13/15\n",
      "Epoch 14/15\n",
      "Epoch 15/15\n",
      "weight decay: 1e-07\n",
      "Accuracy on test set: 0.96\n",
      "Accuracy on validation set: 0.95\n"
     ]
    },
    {
     "name": "stderr",
     "output_type": "stream",
     "text": [
      "Some weights of DistilBertForSequenceClassification were not initialized from the model checkpoint at distilbert-base-uncased and are newly initialized: ['classifier.bias', 'classifier.weight', 'pre_classifier.bias', 'pre_classifier.weight']\n",
      "You should probably TRAIN this model on a down-stream task to be able to use it for predictions and inference.\n"
     ]
    },
    {
     "name": "stdout",
     "output_type": "stream",
     "text": [
      "Epoch 1/15\n",
      "Epoch 2/15\n",
      "Epoch 3/15\n",
      "Epoch 4/15\n",
      "Epoch 5/15\n",
      "Epoch 6/15\n",
      "Epoch 7/15\n",
      "Epoch 8/15\n",
      "Epoch 9/15\n",
      "Epoch 10/15\n",
      "Epoch 11/15\n",
      "Epoch 12/15\n",
      "Epoch 13/15\n",
      "Epoch 14/15\n",
      "Epoch 15/15\n",
      "weight decay: 1e-08\n",
      "Accuracy on test set: 0.96\n",
      "Accuracy on validation set: 0.95\n"
     ]
    }
   ],
   "source": [
    "\n",
    "\n",
    "# Définir les paramètres d'entraînement\n",
    "val_accuracies_wd = []\n",
    "test_accuracies_wd = []\n",
    "optimal_lr = 3e-06\n",
    "optimal_batch_size = 8\n",
    "for wd in [1e-3, 1e-4, 1e-5, 1e-6, 1e-7, 1e-8]:\n",
    "    device = \"cpu\"\n",
    "    # Définir le modèle DistilBERT\n",
    "    model = DistilBertForSequenceClassification.from_pretrained('distilbert-base-uncased', num_labels=2)\n",
    "    optimizer = AdamW(model.parameters(), lr=optimal_lr, weight_decay=wd)\n",
    "\n",
    "    # Définir les tenseurs de données d'entraînement et de validation\n",
    "    train_dataset = TensorDataset(train_input_ids, train_attention_masks, train_labels)\n",
    "    test_dataset = TensorDataset(test_input_ids, test_attention_masks, test_labels)\n",
    "    val_dataset = TensorDataset(val_input_ids, val_attention_masks, val_labels)\n",
    "\n",
    "    # Définir les paramètres d'entraînement\n",
    "    batch_size = optimal_batch_size\n",
    "    train_dataloader = DataLoader(train_dataset, sampler=RandomSampler(train_dataset), batch_size=batch_size)\n",
    "    test_dataloader = DataLoader(test_dataset, sampler=SequentialSampler(test_dataset), batch_size=batch_size)\n",
    "    val_dataloader = DataLoader(val_dataset, sampler=SequentialSampler(val_dataset), batch_size=batch_size)\n",
    "\n",
    "    # Mettre le modèle en mode d'entraînement\n",
    "    model.train()\n",
    "\n",
    "    # Boucle d'entraînement\n",
    "    epochs = 15\n",
    "    for epoch in range(epochs):\n",
    "        print(f'Epoch {epoch + 1}/{epochs}')\n",
    "        for batch in train_dataloader:\n",
    "            # Extraire les données du batch\n",
    "            input_ids, attention_masks, labels = batch\n",
    "            \n",
    "            # Mettre les données sur le GPU si disponible\n",
    "            input_ids = input_ids.to(device)\n",
    "            attention_masks = attention_masks.to(device)\n",
    "            labels = labels.to(device)\n",
    "            \n",
    "            # Remettre les gradients à zéro\n",
    "            optimizer.zero_grad()\n",
    "            \n",
    "            # Faire une passe avant pour obtenir les prédictions\n",
    "            outputs = model(input_ids=input_ids, attention_mask=attention_masks, labels=labels)\n",
    "            \n",
    "            # Calculer la perte\n",
    "            loss = outputs.loss\n",
    "            \n",
    "            # Faire une passe arrière pour calculer les gradients\n",
    "            loss.backward()\n",
    "            \n",
    "            # Mettre à jour les poids du modèle\n",
    "            optimizer.step()\n",
    "            \n",
    "        # Mettre le modèle en mode d'évaluation\n",
    "    model.eval()\n",
    "\n",
    "    # Listes pour stocker les prédictions et les vraies étiquettes pour l'ensemble de test\n",
    "    test_predictions = []\n",
    "    test_true_labels = []\n",
    "\n",
    "    # Boucle d'évaluation sur l'ensemble de test\n",
    "    for batch in test_dataloader:\n",
    "        # Extraire les données du batch\n",
    "        input_ids, attention_masks, labels = batch\n",
    "        \n",
    "        # Mettre les données sur le GPU si disponible\n",
    "        input_ids = input_ids.to(device)\n",
    "        attention_masks = attention_masks.to(device)\n",
    "        labels = labels.to(device)\n",
    "        \n",
    "        # Désactiver le calcul des gradients\n",
    "        with torch.no_grad():\n",
    "            # Faire une passe avant pour obtenir les prédictions\n",
    "            outputs = model(input_ids=input_ids, attention_mask=attention_masks)\n",
    "            \n",
    "        # Obtenir les prédictions et les étiquettes\n",
    "        logits = outputs.logits\n",
    "        test_predictions.extend(torch.argmax(logits, dim=1).tolist())\n",
    "        test_true_labels.extend(labels.tolist())\n",
    "\n",
    "    # Calculer les performances du modèle sur l'ensemble de test\n",
    "    correct_predictions = sum(p == t for p, t in zip(test_predictions, test_true_labels))\n",
    "    total_predictions = len(test_predictions)\n",
    "    test_accuracy = correct_predictions / total_predictions\n",
    "    test_accuracies_wd.append(test_accuracy)\n",
    "    print(f'weight decay: {wd}')\n",
    "    print(f'Accuracy on test set: {test_accuracy:.2f}')\n",
    "    \n",
    "    # Mettre le modèle en mode d'évaluation\n",
    "    model.eval()\n",
    "\n",
    "    # Listes pour stocker les prédictions et les vraies étiquettes\n",
    "    predictions = []\n",
    "    true_labels = []\n",
    "\n",
    "    # Boucle d'évaluation\n",
    "    for batch in val_dataloader:\n",
    "        # Extraire les données du batch\n",
    "        input_ids, attention_masks, labels = batch\n",
    "        \n",
    "        # Mettre les données sur le GPU si disponible\n",
    "        input_ids = input_ids.to(device)\n",
    "        attention_masks = attention_masks.to(device)\n",
    "        labels = labels.to(device)\n",
    "        \n",
    "        # Désactiver le calcul des gradients\n",
    "        with torch.no_grad():\n",
    "            # Faire une passe avant pour obtenir les prédictions\n",
    "            outputs = model(input_ids=input_ids, attention_mask=attention_masks)\n",
    "            \n",
    "        # Obtenir les prédictions et les étiquettes\n",
    "        logits = outputs.logits\n",
    "        predictions.extend(torch.argmax(logits, dim=1).tolist())\n",
    "        true_labels.extend(labels.tolist())\n",
    "\n",
    "    # Calculer les performances du modèle\n",
    "    correct_predictions = sum(p == t for p, t in zip(predictions, true_labels))\n",
    "    total_predictions = len(predictions)\n",
    "    val_accuracy = correct_predictions / total_predictions\n",
    "    val_accuracies_wd.append(val_accuracy)\n",
    "    print(f'Accuracy on validation set: {val_accuracy:.2f}')"
   ]
  },
  {
   "cell_type": "markdown",
   "metadata": {},
   "source": [
    "## Test du modèle avec seulement les prénoms en donnée personnelle"
   ]
  },
  {
   "cell_type": "code",
   "execution_count": null,
   "metadata": {},
   "outputs": [
    {
     "name": "stderr",
     "output_type": "stream",
     "text": [
      "Some weights of DistilBertForSequenceClassification were not initialized from the model checkpoint at distilbert-base-uncased and are newly initialized: ['classifier.bias', 'classifier.weight', 'pre_classifier.bias', 'pre_classifier.weight']\n",
      "You should probably TRAIN this model on a down-stream task to be able to use it for predictions and inference.\n",
      "c:\\Users\\Arthur\\miniconda3\\Lib\\site-packages\\transformers\\optimization.py:429: FutureWarning: This implementation of AdamW is deprecated and will be removed in a future version. Use the PyTorch implementation torch.optim.AdamW instead, or set `no_deprecation_warning=True` to disable this warning\n",
      "  warnings.warn(\n"
     ]
    },
    {
     "name": "stdout",
     "output_type": "stream",
     "text": [
      "Epoch 1/15\n",
      "Epoch 2/15\n",
      "Epoch 3/15\n",
      "Epoch 4/15\n",
      "Epoch 5/15\n",
      "Epoch 6/15\n",
      "Epoch 7/15\n",
      "Epoch 8/15\n",
      "Epoch 9/15\n",
      "Epoch 10/15\n",
      "Epoch 11/15\n",
      "Epoch 12/15\n",
      "Epoch 13/15\n",
      "Epoch 14/15\n",
      "Epoch 15/15\n",
      "learning rate:1e-06\n",
      "Accuracy on test set: 0.89\n",
      "Accuracy on validation set: 1.00\n"
     ]
    },
    {
     "name": "stderr",
     "output_type": "stream",
     "text": [
      "Some weights of DistilBertForSequenceClassification were not initialized from the model checkpoint at distilbert-base-uncased and are newly initialized: ['classifier.bias', 'classifier.weight', 'pre_classifier.bias', 'pre_classifier.weight']\n",
      "You should probably TRAIN this model on a down-stream task to be able to use it for predictions and inference.\n"
     ]
    },
    {
     "name": "stdout",
     "output_type": "stream",
     "text": [
      "Epoch 1/15\n",
      "Epoch 2/15\n",
      "Epoch 3/15\n",
      "Epoch 4/15\n",
      "Epoch 5/15\n",
      "Epoch 6/15\n",
      "Epoch 7/15\n",
      "Epoch 8/15\n",
      "Epoch 9/15\n",
      "Epoch 10/15\n",
      "Epoch 11/15\n",
      "Epoch 12/15\n",
      "Epoch 13/15\n",
      "Epoch 14/15\n",
      "Epoch 15/15\n",
      "learning rate:2e-06\n",
      "Accuracy on test set: 0.96\n",
      "Accuracy on validation set: 1.00\n"
     ]
    },
    {
     "name": "stderr",
     "output_type": "stream",
     "text": [
      "Some weights of DistilBertForSequenceClassification were not initialized from the model checkpoint at distilbert-base-uncased and are newly initialized: ['classifier.bias', 'classifier.weight', 'pre_classifier.bias', 'pre_classifier.weight']\n",
      "You should probably TRAIN this model on a down-stream task to be able to use it for predictions and inference.\n"
     ]
    },
    {
     "name": "stdout",
     "output_type": "stream",
     "text": [
      "Epoch 1/15\n",
      "Epoch 2/15\n",
      "Epoch 3/15\n",
      "Epoch 4/15\n",
      "Epoch 5/15\n",
      "Epoch 6/15\n",
      "Epoch 7/15\n",
      "Epoch 8/15\n",
      "Epoch 9/15\n",
      "Epoch 10/15\n",
      "Epoch 11/15\n",
      "Epoch 12/15\n",
      "Epoch 13/15\n",
      "Epoch 14/15\n",
      "Epoch 15/15\n",
      "learning rate:3e-06\n",
      "Accuracy on test set: 0.96\n",
      "Accuracy on validation set: 1.00\n"
     ]
    },
    {
     "name": "stderr",
     "output_type": "stream",
     "text": [
      "Some weights of DistilBertForSequenceClassification were not initialized from the model checkpoint at distilbert-base-uncased and are newly initialized: ['classifier.bias', 'classifier.weight', 'pre_classifier.bias', 'pre_classifier.weight']\n",
      "You should probably TRAIN this model on a down-stream task to be able to use it for predictions and inference.\n"
     ]
    },
    {
     "name": "stdout",
     "output_type": "stream",
     "text": [
      "Epoch 1/15\n",
      "Epoch 2/15\n",
      "Epoch 3/15\n",
      "Epoch 4/15\n",
      "Epoch 5/15\n",
      "Epoch 6/15\n",
      "Epoch 7/15\n",
      "Epoch 8/15\n",
      "Epoch 9/15\n",
      "Epoch 10/15\n",
      "Epoch 11/15\n",
      "Epoch 12/15\n",
      "Epoch 13/15\n",
      "Epoch 14/15\n",
      "Epoch 15/15\n",
      "learning rate:4e-06\n",
      "Accuracy on test set: 0.96\n",
      "Accuracy on validation set: 1.00\n"
     ]
    },
    {
     "name": "stderr",
     "output_type": "stream",
     "text": [
      "Some weights of DistilBertForSequenceClassification were not initialized from the model checkpoint at distilbert-base-uncased and are newly initialized: ['classifier.bias', 'classifier.weight', 'pre_classifier.bias', 'pre_classifier.weight']\n",
      "You should probably TRAIN this model on a down-stream task to be able to use it for predictions and inference.\n"
     ]
    },
    {
     "name": "stdout",
     "output_type": "stream",
     "text": [
      "Epoch 1/15\n",
      "Epoch 2/15\n",
      "Epoch 3/15\n",
      "Epoch 4/15\n",
      "Epoch 5/15\n",
      "Epoch 6/15\n",
      "Epoch 7/15\n",
      "Epoch 8/15\n",
      "Epoch 9/15\n",
      "Epoch 10/15\n",
      "Epoch 11/15\n",
      "Epoch 12/15\n",
      "Epoch 13/15\n",
      "Epoch 14/15\n",
      "Epoch 15/15\n",
      "learning rate:5e-06\n",
      "Accuracy on test set: 1.00\n",
      "Accuracy on validation set: 1.00\n"
     ]
    },
    {
     "name": "stderr",
     "output_type": "stream",
     "text": [
      "Some weights of DistilBertForSequenceClassification were not initialized from the model checkpoint at distilbert-base-uncased and are newly initialized: ['classifier.bias', 'classifier.weight', 'pre_classifier.bias', 'pre_classifier.weight']\n",
      "You should probably TRAIN this model on a down-stream task to be able to use it for predictions and inference.\n"
     ]
    },
    {
     "name": "stdout",
     "output_type": "stream",
     "text": [
      "Epoch 1/15\n",
      "Epoch 2/15\n",
      "Epoch 3/15\n",
      "Epoch 4/15\n",
      "Epoch 5/15\n",
      "Epoch 6/15\n",
      "Epoch 7/15\n",
      "Epoch 8/15\n",
      "Epoch 9/15\n",
      "Epoch 10/15\n",
      "Epoch 11/15\n",
      "Epoch 12/15\n",
      "Epoch 13/15\n",
      "Epoch 14/15\n",
      "Epoch 15/15\n",
      "learning rate:1e-05\n",
      "Accuracy on test set: 1.00\n",
      "Accuracy on validation set: 1.00\n"
     ]
    },
    {
     "name": "stderr",
     "output_type": "stream",
     "text": [
      "Some weights of DistilBertForSequenceClassification were not initialized from the model checkpoint at distilbert-base-uncased and are newly initialized: ['classifier.bias', 'classifier.weight', 'pre_classifier.bias', 'pre_classifier.weight']\n",
      "You should probably TRAIN this model on a down-stream task to be able to use it for predictions and inference.\n"
     ]
    },
    {
     "name": "stdout",
     "output_type": "stream",
     "text": [
      "Epoch 1/15\n",
      "Epoch 2/15\n",
      "Epoch 3/15\n",
      "Epoch 4/15\n",
      "Epoch 5/15\n",
      "Epoch 6/15\n",
      "Epoch 7/15\n",
      "Epoch 8/15\n",
      "Epoch 9/15\n",
      "Epoch 10/15\n",
      "Epoch 11/15\n",
      "Epoch 12/15\n",
      "Epoch 13/15\n",
      "Epoch 14/15\n",
      "Epoch 15/15\n",
      "learning rate:2e-05\n",
      "Accuracy on test set: 0.96\n",
      "Accuracy on validation set: 0.95\n"
     ]
    },
    {
     "name": "stderr",
     "output_type": "stream",
     "text": [
      "Some weights of DistilBertForSequenceClassification were not initialized from the model checkpoint at distilbert-base-uncased and are newly initialized: ['classifier.bias', 'classifier.weight', 'pre_classifier.bias', 'pre_classifier.weight']\n",
      "You should probably TRAIN this model on a down-stream task to be able to use it for predictions and inference.\n"
     ]
    },
    {
     "name": "stdout",
     "output_type": "stream",
     "text": [
      "Epoch 1/15\n",
      "Epoch 2/15\n",
      "Epoch 3/15\n",
      "Epoch 4/15\n",
      "Epoch 5/15\n",
      "Epoch 6/15\n",
      "Epoch 7/15\n",
      "Epoch 8/15\n",
      "Epoch 9/15\n",
      "Epoch 10/15\n",
      "Epoch 11/15\n",
      "Epoch 12/15\n",
      "Epoch 13/15\n",
      "Epoch 14/15\n",
      "Epoch 15/15\n",
      "learning rate:3e-05\n",
      "Accuracy on test set: 0.96\n",
      "Accuracy on validation set: 1.00\n"
     ]
    },
    {
     "name": "stderr",
     "output_type": "stream",
     "text": [
      "Some weights of DistilBertForSequenceClassification were not initialized from the model checkpoint at distilbert-base-uncased and are newly initialized: ['classifier.bias', 'classifier.weight', 'pre_classifier.bias', 'pre_classifier.weight']\n",
      "You should probably TRAIN this model on a down-stream task to be able to use it for predictions and inference.\n"
     ]
    },
    {
     "name": "stdout",
     "output_type": "stream",
     "text": [
      "Epoch 1/15\n",
      "Epoch 2/15\n",
      "Epoch 3/15\n",
      "Epoch 4/15\n",
      "Epoch 5/15\n",
      "Epoch 6/15\n",
      "Epoch 7/15\n",
      "Epoch 8/15\n",
      "Epoch 9/15\n",
      "Epoch 10/15\n",
      "Epoch 11/15\n",
      "Epoch 12/15\n",
      "Epoch 13/15\n",
      "Epoch 14/15\n",
      "Epoch 15/15\n",
      "learning rate:4e-05\n",
      "Accuracy on test set: 0.96\n",
      "Accuracy on validation set: 1.00\n"
     ]
    },
    {
     "name": "stderr",
     "output_type": "stream",
     "text": [
      "Some weights of DistilBertForSequenceClassification were not initialized from the model checkpoint at distilbert-base-uncased and are newly initialized: ['classifier.bias', 'classifier.weight', 'pre_classifier.bias', 'pre_classifier.weight']\n",
      "You should probably TRAIN this model on a down-stream task to be able to use it for predictions and inference.\n"
     ]
    },
    {
     "name": "stdout",
     "output_type": "stream",
     "text": [
      "Epoch 1/15\n",
      "Epoch 2/15\n",
      "Epoch 3/15\n",
      "Epoch 4/15\n",
      "Epoch 5/15\n",
      "Epoch 6/15\n",
      "Epoch 7/15\n",
      "Epoch 8/15\n",
      "Epoch 9/15\n",
      "Epoch 10/15\n",
      "Epoch 11/15\n",
      "Epoch 12/15\n",
      "Epoch 13/15\n",
      "Epoch 14/15\n",
      "Epoch 15/15\n",
      "learning rate:5e-05\n",
      "Accuracy on test set: 0.96\n",
      "Accuracy on validation set: 1.00\n"
     ]
    },
    {
     "name": "stderr",
     "output_type": "stream",
     "text": [
      "Some weights of DistilBertForSequenceClassification were not initialized from the model checkpoint at distilbert-base-uncased and are newly initialized: ['classifier.bias', 'classifier.weight', 'pre_classifier.bias', 'pre_classifier.weight']\n",
      "You should probably TRAIN this model on a down-stream task to be able to use it for predictions and inference.\n"
     ]
    },
    {
     "name": "stdout",
     "output_type": "stream",
     "text": [
      "Epoch 1/15\n",
      "Epoch 2/15\n",
      "Epoch 3/15\n",
      "Epoch 4/15\n",
      "Epoch 5/15\n",
      "Epoch 6/15\n",
      "Epoch 7/15\n",
      "Epoch 8/15\n",
      "Epoch 9/15\n",
      "Epoch 10/15\n",
      "Epoch 11/15\n",
      "Epoch 12/15\n",
      "Epoch 13/15\n",
      "Epoch 14/15\n",
      "Epoch 15/15\n",
      "learning rate:0.0001\n",
      "Accuracy on test set: 0.93\n",
      "Accuracy on validation set: 1.00\n"
     ]
    },
    {
     "name": "stderr",
     "output_type": "stream",
     "text": [
      "Some weights of DistilBertForSequenceClassification were not initialized from the model checkpoint at distilbert-base-uncased and are newly initialized: ['classifier.bias', 'classifier.weight', 'pre_classifier.bias', 'pre_classifier.weight']\n",
      "You should probably TRAIN this model on a down-stream task to be able to use it for predictions and inference.\n"
     ]
    },
    {
     "name": "stdout",
     "output_type": "stream",
     "text": [
      "Epoch 1/15\n",
      "Epoch 2/15\n",
      "Epoch 3/15\n",
      "Epoch 4/15\n",
      "Epoch 5/15\n",
      "Epoch 6/15\n",
      "Epoch 7/15\n",
      "Epoch 8/15\n",
      "Epoch 9/15\n",
      "Epoch 10/15\n",
      "Epoch 11/15\n",
      "Epoch 12/15\n",
      "Epoch 13/15\n",
      "Epoch 14/15\n",
      "Epoch 15/15\n",
      "learning rate:0.001\n",
      "Accuracy on test set: 0.68\n",
      "Accuracy on validation set: 0.55\n"
     ]
    },
    {
     "name": "stderr",
     "output_type": "stream",
     "text": [
      "Some weights of DistilBertForSequenceClassification were not initialized from the model checkpoint at distilbert-base-uncased and are newly initialized: ['classifier.bias', 'classifier.weight', 'pre_classifier.bias', 'pre_classifier.weight']\n",
      "You should probably TRAIN this model on a down-stream task to be able to use it for predictions and inference.\n"
     ]
    },
    {
     "name": "stdout",
     "output_type": "stream",
     "text": [
      "Epoch 1/15\n",
      "Epoch 2/15\n",
      "Epoch 3/15\n",
      "Epoch 4/15\n",
      "Epoch 5/15\n",
      "Epoch 6/15\n",
      "Epoch 7/15\n",
      "Epoch 8/15\n",
      "Epoch 9/15\n",
      "Epoch 10/15\n",
      "Epoch 11/15\n",
      "Epoch 12/15\n",
      "Epoch 13/15\n",
      "Epoch 14/15\n",
      "Epoch 15/15\n",
      "learning rate:0.01\n",
      "Accuracy on test set: 0.68\n",
      "Accuracy on validation set: 0.55\n"
     ]
    },
    {
     "name": "stderr",
     "output_type": "stream",
     "text": [
      "Some weights of DistilBertForSequenceClassification were not initialized from the model checkpoint at distilbert-base-uncased and are newly initialized: ['classifier.bias', 'classifier.weight', 'pre_classifier.bias', 'pre_classifier.weight']\n",
      "You should probably TRAIN this model on a down-stream task to be able to use it for predictions and inference.\n"
     ]
    },
    {
     "name": "stdout",
     "output_type": "stream",
     "text": [
      "Epoch 1/15\n",
      "Epoch 2/15\n",
      "Epoch 3/15\n",
      "Epoch 4/15\n",
      "Epoch 5/15\n",
      "Epoch 6/15\n",
      "Epoch 7/15\n",
      "Epoch 8/15\n",
      "Epoch 9/15\n",
      "Epoch 10/15\n",
      "Epoch 11/15\n",
      "Epoch 12/15\n",
      "Epoch 13/15\n",
      "Epoch 14/15\n",
      "Epoch 15/15\n",
      "learning rate:0.1\n",
      "Accuracy on test set: 0.68\n",
      "Accuracy on validation set: 0.55\n"
     ]
    }
   ],
   "source": [
    "y = data['sex']\n",
    "X = data[['firstname']]\n",
    "# Séparation en ensembles d'entraînement et de test (80% train, 20% test)\n",
    "X_train, X_test, y_train, y_test = train_test_split(X, y, test_size=0.2)\n",
    "\n",
    "# Séparation de l'ensemble de test en ensembles de test et de validation (60% test, 40% validation)\n",
    "X_test, X_val, y_test, y_val = train_test_split(X_test, y_test, test_size=0.4)\n",
    "\n",
    "y_train\n",
    "tokenizer = DistilBertTokenizerFast.from_pretrained('distilbert-base-uncased')\n",
    "# Fonction pour tokenizer une ligne de données\n",
    "def tokenize_data(row):\n",
    "    # Concaténer les données textuelles en une seule chaîne\n",
    "    text = str(row['firstname'])\n",
    "    \n",
    "    # Tokenization avec DistilBERT\n",
    "    tokens = tokenizer.encode_plus(text, add_special_tokens=True, max_length=16, padding='max_length', truncation=True, return_tensors='pt')\n",
    "    \n",
    "    return tokens\n",
    "\n",
    "tokenized_train_data = X_train.apply(tokenize_data, axis=1)\n",
    "tokenized_test_data = X_test.apply(tokenize_data, axis=1)\n",
    "tokenized_val_data = X_val.apply(tokenize_data, axis=1)\n",
    "train_encodings = tokenizer(X_train['firstname'].to_list(), truncation=True, padding=True)\n",
    "val_encodings = tokenizer(X_val['firstname'].to_list(), truncation=True, padding=True)\n",
    "test_encodings = tokenizer(X_test['firstname'].to_list(), truncation=True, padding=True)\n",
    "train_encodings['input_ids'][0]\n",
    "# Jouer avec le learning rate, weight decay, momentum, nombre d'epochs et plot des graphes des accuracies en fonction des valeurs de ces hyperparamètres\n",
    "import torch\n",
    "\n",
    "# Fonction pour préparer les données tokenizées\n",
    "def prepare_dataset(tokenized_data, labels):\n",
    "    input_ids = torch.cat([data['input_ids'] for data in tokenized_data], dim=0)\n",
    "    attention_masks = torch.cat([data['attention_mask'] for data in tokenized_data], dim=0)\n",
    "    labels = torch.tensor(labels.values, dtype=torch.long)\n",
    "    return input_ids, attention_masks, labels\n",
    "\n",
    "# Préparation des données pour l'entraînement\n",
    "train_input_ids, train_attention_masks, train_labels = prepare_dataset(tokenized_train_data, y_train)\n",
    "\n",
    "# Préparation des données pour le test\n",
    "test_input_ids, test_attention_masks, test_labels = prepare_dataset(tokenized_test_data, y_test)\n",
    "\n",
    "# Préparation des données pour la validation\n",
    "val_input_ids, val_attention_masks, val_labels = prepare_dataset(tokenized_val_data, y_val)\n",
    "\n",
    "## Nombre d'epochs : 15, assez faible mais suffisant pour que l'accuracy ne s'améliore que très peu pour chaque learning rate.\n",
    "## Variation du learning rate\n",
    "\n",
    "\n",
    "\n",
    "\n",
    "# Définir les paramètres d'entraînement\n",
    "val_accuracies_lr = []\n",
    "test_accuracies_lr = []\n",
    "for learning_rate in [1e-6, 2e-6, 3e-6, 4e-6, 5e-6, 1e-5, 2e-5, 3e-5, 4e-5, 5e-5, 1e-4, 1e-3, 1e-2, 1e-1]:\n",
    "    device = \"cpu\"\n",
    "    # Définir le modèle DistilBERT\n",
    "    model = DistilBertForSequenceClassification.from_pretrained('distilbert-base-uncased', num_labels=2)\n",
    "    optimizer = AdamW(model.parameters(), lr=learning_rate)\n",
    "\n",
    "    # Définir les tenseurs de données d'entraînement et de validation\n",
    "    train_dataset = TensorDataset(train_input_ids, train_attention_masks, train_labels)\n",
    "    test_dataset = TensorDataset(test_input_ids, test_attention_masks, test_labels)\n",
    "    val_dataset = TensorDataset(val_input_ids, val_attention_masks, val_labels)\n",
    "\n",
    "    # Définir les paramètres d'entraînement\n",
    "    batch_size = 16\n",
    "    train_dataloader = DataLoader(train_dataset, sampler=RandomSampler(train_dataset), batch_size=batch_size)\n",
    "    test_dataloader = DataLoader(test_dataset, sampler=SequentialSampler(test_dataset), batch_size=batch_size)\n",
    "    val_dataloader = DataLoader(val_dataset, sampler=SequentialSampler(val_dataset), batch_size=batch_size)\n",
    "\n",
    "    # Mettre le modèle en mode d'entraînement\n",
    "    model.train()\n",
    "\n",
    "    # Boucle d'entraînement\n",
    "    epochs = 15\n",
    "    for epoch in range(epochs):\n",
    "        print(f'Epoch {epoch + 1}/{epochs}')\n",
    "        for batch in train_dataloader:\n",
    "            # Extraire les données du batch\n",
    "            input_ids, attention_masks, labels = batch\n",
    "            \n",
    "            # Mettre les données sur le GPU si disponible\n",
    "            input_ids = input_ids.to(device)\n",
    "            attention_masks = attention_masks.to(device)\n",
    "            labels = labels.to(device)\n",
    "            \n",
    "            # Remettre les gradients à zéro\n",
    "            optimizer.zero_grad()\n",
    "            \n",
    "            # Faire une passe avant pour obtenir les prédictions\n",
    "            outputs = model(input_ids=input_ids, attention_mask=attention_masks, labels=labels)\n",
    "            \n",
    "            # Calculer la perte\n",
    "            loss = outputs.loss\n",
    "            \n",
    "            # Faire une passe arrière pour calculer les gradients\n",
    "            loss.backward()\n",
    "            \n",
    "            # Mettre à jour les poids du modèle\n",
    "            optimizer.step()\n",
    "            \n",
    "        # Mettre le modèle en mode d'évaluation\n",
    "    model.eval()\n",
    "\n",
    "    # Listes pour stocker les prédictions et les vraies étiquettes pour l'ensemble de test\n",
    "    test_predictions = []\n",
    "    test_true_labels = []\n",
    "\n",
    "    # Boucle d'évaluation sur l'ensemble de test\n",
    "    for batch in test_dataloader:\n",
    "        # Extraire les données du batch\n",
    "        input_ids, attention_masks, labels = batch\n",
    "        \n",
    "        # Mettre les données sur le GPU si disponible\n",
    "        input_ids = input_ids.to(device)\n",
    "        attention_masks = attention_masks.to(device)\n",
    "        labels = labels.to(device)\n",
    "        \n",
    "        # Désactiver le calcul des gradients\n",
    "        with torch.no_grad():\n",
    "            # Faire une passe avant pour obtenir les prédictions\n",
    "            outputs = model(input_ids=input_ids, attention_mask=attention_masks)\n",
    "            \n",
    "        # Obtenir les prédictions et les étiquettes\n",
    "        logits = outputs.logits\n",
    "        test_predictions.extend(torch.argmax(logits, dim=1).tolist())\n",
    "        test_true_labels.extend(labels.tolist())\n",
    "\n",
    "    # Calculer les performances du modèle sur l'ensemble de test\n",
    "    correct_predictions = sum(p == t for p, t in zip(test_predictions, test_true_labels))\n",
    "    total_predictions = len(test_predictions)\n",
    "    test_accuracy = correct_predictions / total_predictions\n",
    "    test_accuracies_lr.append(test_accuracy)\n",
    "    print(f'learning rate:{learning_rate}')\n",
    "    print(f'Accuracy on test set: {test_accuracy:.2f}')\n",
    "    \n",
    "    # Mettre le modèle en mode d'évaluation\n",
    "    model.eval()\n",
    "\n",
    "    # Listes pour stocker les prédictions et les vraies étiquettes\n",
    "    predictions = []\n",
    "    true_labels = []\n",
    "\n",
    "    # Boucle d'évaluation\n",
    "    for batch in val_dataloader:\n",
    "        # Extraire les données du batch\n",
    "        input_ids, attention_masks, labels = batch\n",
    "        \n",
    "        # Mettre les données sur le GPU si disponible\n",
    "        input_ids = input_ids.to(device)\n",
    "        attention_masks = attention_masks.to(device)\n",
    "        labels = labels.to(device)\n",
    "        \n",
    "        # Désactiver le calcul des gradients\n",
    "        with torch.no_grad():\n",
    "            # Faire une passe avant pour obtenir les prédictions\n",
    "            outputs = model(input_ids=input_ids, attention_mask=attention_masks)\n",
    "            \n",
    "        # Obtenir les prédictions et les étiquettes\n",
    "        logits = outputs.logits\n",
    "        predictions.extend(torch.argmax(logits, dim=1).tolist())\n",
    "        true_labels.extend(labels.tolist())\n",
    "\n",
    "    # Calculer les performances du modèle\n",
    "    correct_predictions = sum(p == t for p, t in zip(predictions, true_labels))\n",
    "    total_predictions = len(predictions)\n",
    "    val_accuracy = correct_predictions / total_predictions\n",
    "    val_accuracies_lr.append(val_accuracy)\n",
    "    print(f'Accuracy on validation set: {val_accuracy:.2f}')"
   ]
  }
 ],
 "metadata": {
  "kernelspec": {
   "display_name": "base",
   "language": "python",
   "name": "python3"
  },
  "language_info": {
   "codemirror_mode": {
    "name": "ipython",
    "version": 3
   },
   "file_extension": ".py",
   "mimetype": "text/x-python",
   "name": "python",
   "nbconvert_exporter": "python",
   "pygments_lexer": "ipython3",
   "version": "3.11.5"
  }
 },
 "nbformat": 4,
 "nbformat_minor": 2
}
