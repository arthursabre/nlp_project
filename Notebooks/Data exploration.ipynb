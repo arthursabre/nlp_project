{
 "cells": [
  {
   "cell_type": "code",
   "execution_count": 2,
   "id": "a7e644f1-3c00-4e8a-8210-6e64c719a0bb",
   "metadata": {},
   "outputs": [],
   "source": [
    "import pandas as pd\n",
    "import matplotlib.pyplot as plt\n",
    "import numpy as np\n",
    "import seaborn as sns"
   ]
  },
  {
   "cell_type": "code",
   "execution_count": 5,
   "id": "10ba5078-9687-48dd-8bc7-afe380d912af",
   "metadata": {},
   "outputs": [],
   "source": [
    "df = pd.read_csv(\"../Data/transcriptions_with_sex.csv\")"
   ]
  },
  {
   "cell_type": "markdown",
   "id": "b47c66ad",
   "metadata": {},
   "source": [
    "# transcriptions_with_sex.csv"
   ]
  },
  {
   "cell_type": "code",
   "execution_count": 6,
   "id": "a1f220fd-06ec-40f3-b34e-38b25fa84da3",
   "metadata": {},
   "outputs": [
    {
     "data": {
      "text/html": [
       "<div>\n",
       "<style scoped>\n",
       "    .dataframe tbody tr th:only-of-type {\n",
       "        vertical-align: middle;\n",
       "    }\n",
       "\n",
       "    .dataframe tbody tr th {\n",
       "        vertical-align: top;\n",
       "    }\n",
       "\n",
       "    .dataframe thead th {\n",
       "        text-align: right;\n",
       "    }\n",
       "</style>\n",
       "<table border=\"1\" class=\"dataframe\">\n",
       "  <thead>\n",
       "    <tr style=\"text-align: right;\">\n",
       "      <th></th>\n",
       "      <th>subject_line</th>\n",
       "      <th>groundtruth</th>\n",
       "      <th>prediction</th>\n",
       "      <th>sex</th>\n",
       "    </tr>\n",
       "  </thead>\n",
       "  <tbody>\n",
       "    <tr>\n",
       "      <th>0</th>\n",
       "      <td>ebb26ada-044c-4c62-9dbc-a9c8d505d31c</td>\n",
       "      <td>surname: Chardon firstname: Marie occupation: ...</td>\n",
       "      <td>nom: Chardon prénom: Marie date_naissance: 30 ...</td>\n",
       "      <td>femme</td>\n",
       "    </tr>\n",
       "    <tr>\n",
       "      <th>1</th>\n",
       "      <td>338496f5-e4ca-43ac-aa5c-429cb3f6ac00</td>\n",
       "      <td>surname: Lhopital firstname: Louis-Jean occupa...</td>\n",
       "      <td>nom: Lhopital prénom: Louis Jean date_naissanc...</td>\n",
       "      <td>homme</td>\n",
       "    </tr>\n",
       "    <tr>\n",
       "      <th>2</th>\n",
       "      <td>e6a279da-9b6f-4f49-b498-64857bc50d1e</td>\n",
       "      <td>surname: Papin firstname: Marie occupation: id...</td>\n",
       "      <td>nom: Pyrin prénom: Marie date_naissance: 55 re...</td>\n",
       "      <td>femme</td>\n",
       "    </tr>\n",
       "    <tr>\n",
       "      <th>3</th>\n",
       "      <td>7534deca-39e8-4f00-be17-c12460015de1</td>\n",
       "      <td>surname: Lavocat firstname: Marie link: femme ...</td>\n",
       "      <td>nom: Lavocat prénom: Marie date_naissance: 187...</td>\n",
       "      <td>femme</td>\n",
       "    </tr>\n",
       "    <tr>\n",
       "      <th>4</th>\n",
       "      <td>ef334a66-a504-418a-9872-e7c9db923488</td>\n",
       "      <td>surname: Benne firstname: Marguerite age: 78</td>\n",
       "      <td>nom: Benne prénom: Marguerite date_naissance: ...</td>\n",
       "      <td>femme</td>\n",
       "    </tr>\n",
       "    <tr>\n",
       "      <th>...</th>\n",
       "      <td>...</td>\n",
       "      <td>...</td>\n",
       "      <td>...</td>\n",
       "      <td>...</td>\n",
       "    </tr>\n",
       "    <tr>\n",
       "      <th>236</th>\n",
       "      <td>1d92738a-cffe-4aee-ab10-db04c37f7405</td>\n",
       "      <td>surname: Burlurut firstname: Pétronille occupa...</td>\n",
       "      <td>nom: Burlurut prénom: Gihromille date_naissanc...</td>\n",
       "      <td>femme</td>\n",
       "    </tr>\n",
       "    <tr>\n",
       "      <th>237</th>\n",
       "      <td>09440055-7972-4135-a537-e6c5a1f2aeb2</td>\n",
       "      <td>surname: Combey firstname: Alexandre occupatio...</td>\n",
       "      <td>nom: Comberf prénom: Alexandre date_naissance:...</td>\n",
       "      <td>homme</td>\n",
       "    </tr>\n",
       "    <tr>\n",
       "      <th>238</th>\n",
       "      <td>4d387278-12c3-410c-bdf0-c5c603479764</td>\n",
       "      <td>surname: Collin firstname: Marguerite occupati...</td>\n",
       "      <td>nom: Collin prénom: Marguerite date_naissance:...</td>\n",
       "      <td>femme</td>\n",
       "    </tr>\n",
       "    <tr>\n",
       "      <th>239</th>\n",
       "      <td>623b95de-f87c-4844-a7f7-361088eed83a</td>\n",
       "      <td>surname: Dumont firstname: Etienne link: fils ...</td>\n",
       "      <td>nom: Dumont prénom: Etienne date_naissance: 19...</td>\n",
       "      <td>homme</td>\n",
       "    </tr>\n",
       "    <tr>\n",
       "      <th>240</th>\n",
       "      <td>26d7839c-16a1-486e-9736-83e500fb72e5</td>\n",
       "      <td>surname: Renaut firstname: Antoinette link: be...</td>\n",
       "      <td>nom: Renaut prénom: Antoinette date_naissance:...</td>\n",
       "      <td>femme</td>\n",
       "    </tr>\n",
       "  </tbody>\n",
       "</table>\n",
       "<p>241 rows × 4 columns</p>\n",
       "</div>"
      ],
      "text/plain": [
       "                             subject_line  \\\n",
       "0    ebb26ada-044c-4c62-9dbc-a9c8d505d31c   \n",
       "1    338496f5-e4ca-43ac-aa5c-429cb3f6ac00   \n",
       "2    e6a279da-9b6f-4f49-b498-64857bc50d1e   \n",
       "3    7534deca-39e8-4f00-be17-c12460015de1   \n",
       "4    ef334a66-a504-418a-9872-e7c9db923488   \n",
       "..                                    ...   \n",
       "236  1d92738a-cffe-4aee-ab10-db04c37f7405   \n",
       "237  09440055-7972-4135-a537-e6c5a1f2aeb2   \n",
       "238  4d387278-12c3-410c-bdf0-c5c603479764   \n",
       "239  623b95de-f87c-4844-a7f7-361088eed83a   \n",
       "240  26d7839c-16a1-486e-9736-83e500fb72e5   \n",
       "\n",
       "                                           groundtruth  \\\n",
       "0    surname: Chardon firstname: Marie occupation: ...   \n",
       "1    surname: Lhopital firstname: Louis-Jean occupa...   \n",
       "2    surname: Papin firstname: Marie occupation: id...   \n",
       "3    surname: Lavocat firstname: Marie link: femme ...   \n",
       "4        surname: Benne firstname: Marguerite age: 78    \n",
       "..                                                 ...   \n",
       "236  surname: Burlurut firstname: Pétronille occupa...   \n",
       "237  surname: Combey firstname: Alexandre occupatio...   \n",
       "238  surname: Collin firstname: Marguerite occupati...   \n",
       "239  surname: Dumont firstname: Etienne link: fils ...   \n",
       "240  surname: Renaut firstname: Antoinette link: be...   \n",
       "\n",
       "                                            prediction    sex  \n",
       "0    nom: Chardon prénom: Marie date_naissance: 30 ...  femme  \n",
       "1    nom: Lhopital prénom: Louis Jean date_naissanc...  homme  \n",
       "2    nom: Pyrin prénom: Marie date_naissance: 55 re...  femme  \n",
       "3    nom: Lavocat prénom: Marie date_naissance: 187...  femme  \n",
       "4    nom: Benne prénom: Marguerite date_naissance: ...  femme  \n",
       "..                                                 ...    ...  \n",
       "236  nom: Burlurut prénom: Gihromille date_naissanc...  femme  \n",
       "237  nom: Comberf prénom: Alexandre date_naissance:...  homme  \n",
       "238  nom: Collin prénom: Marguerite date_naissance:...  femme  \n",
       "239  nom: Dumont prénom: Etienne date_naissance: 19...  homme  \n",
       "240  nom: Renaut prénom: Antoinette date_naissance:...  femme  \n",
       "\n",
       "[241 rows x 4 columns]"
      ]
     },
     "execution_count": 6,
     "metadata": {},
     "output_type": "execute_result"
    }
   ],
   "source": [
    "df"
   ]
  },
  {
   "cell_type": "code",
   "execution_count": 6,
   "id": "766c5661",
   "metadata": {},
   "outputs": [
    {
     "name": "stdout",
     "output_type": "stream",
     "text": [
      "Nombre de lignes où l'occupation est indiquée : 199\n"
     ]
    }
   ],
   "source": [
    "# Importer les bibliothèques nécessaires\n",
    "import pandas as pd\n",
    "\n",
    "# Charger le fichier CSV dans un DataFrame Pandas\n",
    "df = pd.read_csv('../Data/transcriptions_with_sex.csv')\n",
    "\n",
    "# Compter le nombre de lignes où l'occupation est indiquée\n",
    "occupation_count = df['groundtruth'].str.contains('occupation').sum()\n",
    "\n",
    "# Afficher le résultat\n",
    "print('Nombre de lignes où l\\'occupation est indiquée :', occupation_count)"
   ]
  },
  {
   "cell_type": "code",
   "execution_count": 7,
   "id": "5f8d359e",
   "metadata": {},
   "outputs": [
    {
     "data": {
      "text/plain": [
       "199"
      ]
     },
     "execution_count": 7,
     "metadata": {},
     "output_type": "execute_result"
    }
   ],
   "source": [
    "occupation_count"
   ]
  },
  {
   "cell_type": "code",
   "execution_count": 8,
   "id": "04954c4c",
   "metadata": {},
   "outputs": [
    {
     "name": "stdout",
     "output_type": "stream",
     "text": [
      "Nombre de lignes où le \"link\" est indiqué : 230\n"
     ]
    }
   ],
   "source": [
    "link_count = df['groundtruth'].str.contains('link').sum()\n",
    "\n",
    "# Afficher le résultat\n",
    "print('Nombre de lignes où le \"link\" est indiqué :', link_count)"
   ]
  },
  {
   "cell_type": "code",
   "execution_count": 9,
   "id": "fe4409ab",
   "metadata": {},
   "outputs": [
    {
     "name": "stdout",
     "output_type": "stream",
     "text": [
      "Nombre de lignes où le \"age\" est indiqué : 200\n"
     ]
    }
   ],
   "source": [
    "age_count = df['groundtruth'].str.contains('age').sum()\n",
    "\n",
    "# Afficher le résultat\n",
    "print('Nombre de lignes où le \"age\" est indiqué :', age_count)"
   ]
  },
  {
   "cell_type": "code",
   "execution_count": 10,
   "id": "93dcb4ba",
   "metadata": {},
   "outputs": [
    {
     "name": "stdout",
     "output_type": "stream",
     "text": [
      "Nombre de lignes où le \"birth_date\" est indiqué : 47\n"
     ]
    }
   ],
   "source": [
    "bdate_count = df['groundtruth'].str.contains('birth_date').sum()\n",
    "\n",
    "# Afficher le résultat\n",
    "print('Nombre de lignes où le \"birth_date\" est indiqué :', bdate_count)"
   ]
  },
  {
   "cell_type": "code",
   "execution_count": 11,
   "id": "0b7cb386",
   "metadata": {},
   "outputs": [
    {
     "name": "stdout",
     "output_type": "stream",
     "text": [
      "prediction:  nom: Mimerel prénom: Pierre date_naissance: 88 lieux_naissance: d  \n",
      "groundtruth : surname: Mimerel firstname: Pierre link: fils age: 8  \n",
      "\n",
      "prediction:  nom: Marmien prénom: Charles date_naissance: 12anx état_civil: s  \n",
      "groundtruth : surname: Marmion firstname: Charles occupation: sans prof. link: petit-fils age: 12  \n",
      "\n",
      "prediction:  nom: Choussy prénom: Albert date_naissance: 87 lieux_naissance: S profession: profevitaire  \n",
      "groundtruth : surname: Choussy firstname: Albert occupation: Propriétaire link: fils age: 37  \n",
      "\n",
      "prediction:  nom: Dumont prénom: Clause date_naissance: 1887 lieux_naissance: id relation: chef profession: entiinateur employeur: patron  \n",
      "groundtruth : surname: Dumont firstname: Blaise occupation: cultivateur link: chef employer: patron birth_date: 1857 lob: idem  \n",
      "\n",
      "prediction:  nom: Simonin prénom: Bt date_naissance: 3ean lieux_naissance: alles relation: chef  \n",
      "groundtruth : surname: Simonin firstname: Baptiste occupation: cult eur fermier link: chef age: 35  \n",
      "\n",
      "prediction:  nom: Autisier prénom: Antoine date_naissance: 45 lieux_naissance: Marne profession: href  \n",
      "groundtruth : surname: Autissier firstname: Antoine occupation: manoeuvre link: chef age: 45  \n",
      "\n"
     ]
    }
   ],
   "source": [
    "i = 223\n",
    "\n",
    "print('prediction: ', df[['prediction']].iloc[i-1].iloc[0], '\\ngroundtruth :', df[['groundtruth']].iloc[i-1].iloc[0],'\\n')\n",
    "\n",
    "print('prediction: ', df[['prediction']].iloc[i].iloc[0], '\\ngroundtruth :', df[['groundtruth']].iloc[i].iloc[0],'\\n')\n",
    "\n",
    "print('prediction: ', df[['prediction']].iloc[i+1].iloc[0], '\\ngroundtruth :', df[['groundtruth']].iloc[i+1].iloc[0],'\\n')\n",
    "\n",
    "print('prediction: ', df[['prediction']].iloc[i+2].iloc[0], '\\ngroundtruth :', df[['groundtruth']].iloc[i+2].iloc[0],'\\n')\n",
    "\n",
    "print('prediction: ', df[['prediction']].iloc[i+3].iloc[0], '\\ngroundtruth :', df[['groundtruth']].iloc[i+3].iloc[0],'\\n')\n",
    "\n",
    "print('prediction: ', df[['prediction']].iloc[i+4].iloc[0], '\\ngroundtruth :', df[['groundtruth']].iloc[i+4].iloc[0],'\\n')"
   ]
  },
  {
   "cell_type": "code",
   "execution_count": 12,
   "id": "5a7ee6b4",
   "metadata": {},
   "outputs": [],
   "source": [
    "# Définir les expressions régulières pour chaque feature\n",
    "patterns = {\n",
    "    'surname': r'surname:\\s*(.+?)\\s*(?=firstname|occupation|age|link|employer|birth_date|lob|$)',\n",
    "    'firstname': r'firstname:\\s*(.+?)\\s*(?=surname|occupation|age|link|employer|birth_date|lob|$)',\n",
    "    'age': r'age:\\s*(\\d+)\\s*(?=surname|firstname|occupation|link|employer|birth_date|lob|$)',\n",
    "    'link': r'link:\\s*(.+?)\\s*(?=surname|firstname|occupation|age|employer|birth_date|lob|$)',\n",
    "    'occupation': r'occupation:\\s*(.+?)\\s*(?=surname|firstname|age|link|employer|birth_date|lob|$)'\n",
    "}\n",
    "\n",
    "# Parcourir les features et extraire les valeurs correspondantes\n",
    "for feature, pattern in patterns.items():\n",
    "    df[feature] = df['groundtruth'].str.extract(pattern, expand=False)"
   ]
  },
  {
   "cell_type": "code",
   "execution_count": 13,
   "id": "0f1e679d",
   "metadata": {},
   "outputs": [],
   "source": [
    "data = df[df.columns[3:]].copy()"
   ]
  },
  {
   "cell_type": "code",
   "execution_count": 14,
   "id": "32511209",
   "metadata": {},
   "outputs": [],
   "source": [
    "data.to_csv('../Data/data.csv')"
   ]
  }
 ],
 "metadata": {
  "kernelspec": {
   "display_name": "Python 3 (ipykernel)",
   "language": "python",
   "name": "python3"
  },
  "language_info": {
   "codemirror_mode": {
    "name": "ipython",
    "version": 3
   },
   "file_extension": ".py",
   "mimetype": "text/x-python",
   "name": "python",
   "nbconvert_exporter": "python",
   "pygments_lexer": "ipython3",
   "version": "3.11.5"
  }
 },
 "nbformat": 4,
 "nbformat_minor": 5
}
